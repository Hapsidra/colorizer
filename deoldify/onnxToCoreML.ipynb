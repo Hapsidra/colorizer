{
 "cells": [
  {
   "cell_type": "code",
   "execution_count": 1,
   "metadata": {},
   "outputs": [
    {
     "ename": "ModuleNotFoundError",
     "evalue": "No module named 'onnx_coreml'",
     "output_type": "error",
     "traceback": [
      "\u001b[1;31m---------------------------------------------------------------------------\u001b[0m",
      "\u001b[1;31mModuleNotFoundError\u001b[0m                       Traceback (most recent call last)",
      "\u001b[1;32m<ipython-input-1-af4dcea63302>\u001b[0m in \u001b[0;36m<module>\u001b[1;34m\u001b[0m\n\u001b[1;32m----> 1\u001b[1;33m \u001b[1;32mfrom\u001b[0m \u001b[0monnx_coreml\u001b[0m \u001b[1;32mimport\u001b[0m \u001b[0mconvert\u001b[0m\u001b[1;33m\u001b[0m\u001b[1;33m\u001b[0m\u001b[0m\n\u001b[0m\u001b[0;32m      2\u001b[0m \u001b[1;33m\u001b[0m\u001b[0m\n\u001b[0;32m      3\u001b[0m \u001b[1;31m# Load the ONNX model as a CoreML model\u001b[0m\u001b[1;33m\u001b[0m\u001b[1;33m\u001b[0m\u001b[1;33m\u001b[0m\u001b[0m\n\u001b[0;32m      4\u001b[0m \u001b[0mmlmodel\u001b[0m \u001b[1;33m=\u001b[0m \u001b[0mconvert\u001b[0m\u001b[1;33m(\u001b[0m\u001b[0mmodel\u001b[0m\u001b[1;33m=\u001b[0m\u001b[1;34m'models/colorizer.onnx'\u001b[0m\u001b[1;33m,\u001b[0m \u001b[0mminimum_ios_deployment_target\u001b[0m\u001b[1;33m=\u001b[0m\u001b[1;34m'13'\u001b[0m\u001b[1;33m,\u001b[0m \u001b[0madd_custom_layers\u001b[0m\u001b[1;33m=\u001b[0m\u001b[1;32mTrue\u001b[0m\u001b[1;33m)\u001b[0m\u001b[1;33m\u001b[0m\u001b[1;33m\u001b[0m\u001b[0m\n\u001b[0;32m      5\u001b[0m \u001b[1;31m# Step 2 - ONNX to CoreML model\u001b[0m\u001b[1;33m\u001b[0m\u001b[1;33m\u001b[0m\u001b[1;33m\u001b[0m\u001b[0m\n",
      "\u001b[1;31mModuleNotFoundError\u001b[0m: No module named 'onnx_coreml'"
     ]
    }
   ],
   "source": [
    "from onnx_coreml import convert\n",
    "\n",
    "# Load the ONNX model as a CoreML model\n",
    "mlmodel = convert(model='models/colorizer.onnx', minimum_ios_deployment_target='13', add_custom_layers=True)\n",
    "# Step 2 - ONNX to CoreML model\n",
    "# rename inputs/outputs\n",
    "#import coremltools\n",
    "#spec = mlmodel.get_spec()\n",
    "#coremltools.utils.rename_feature(spec, current_name='input.1', new_name='input_tensor')\n",
    "#coremltools.utils.rename_feature(spec, current_name='12', new_name='network_output')\n",
    "#mlmodel = coremltools.models.MLModel(spec)\n",
    "\n",
    "# Save converted CoreML model\n",
    "#mlmodel.save('small_model.mlmodel')\n",
    "# Save the CoreML model\n",
    "#model.save('colorizer.mlmodel')\n",
    "mlmodel"
   ]
  },
  {
   "cell_type": "code",
   "execution_count": null,
   "metadata": {},
   "outputs": [],
   "source": []
  }
 ],
 "metadata": {
  "kernelspec": {
   "display_name": "Python 3",
   "language": "python",
   "name": "python3"
  },
  "language_info": {
   "codemirror_mode": {
    "name": "ipython",
    "version": 3
   },
   "file_extension": ".py",
   "mimetype": "text/x-python",
   "name": "python",
   "nbconvert_exporter": "python",
   "pygments_lexer": "ipython3",
   "version": "3.7.6"
  }
 },
 "nbformat": 4,
 "nbformat_minor": 4
}
