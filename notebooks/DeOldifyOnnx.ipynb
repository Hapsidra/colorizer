{
 "cells": [
  {
   "cell_type": "code",
   "execution_count": 1,
   "metadata": {
    "colab": {
     "base_uri": "https://localhost:8080/",
     "height": 1000
    },
    "colab_type": "code",
    "id": "ZccCbx-UDXap",
    "outputId": "9c2090cf-0382-4cc4-86c0-2cab52de09c3"
   },
   "outputs": [
    {
     "name": "stdout",
     "output_type": "stream",
     "text": [
      "Collecting fastai==1.0.51\n",
      "  Downloading fastai-1.0.51-py3-none-any.whl (214 kB)\n",
      "Collecting wandb\n",
      "  Downloading wandb-0.8.31-py2.py3-none-any.whl (1.4 MB)\n",
      "Collecting tensorboardX==1.6\n",
      "  Downloading tensorboardX-1.6-py2.py3-none-any.whl (129 kB)\n",
      "Collecting ffmpeg\n",
      "  Downloading ffmpeg-1.4.tar.gz (5.1 kB)\n",
      "Collecting ffmpeg-python==0.1.17\n",
      "  Downloading ffmpeg_python-0.1.17-py3-none-any.whl (20 kB)\n",
      "Collecting youtube-dl>=2019.4.17\n",
      "  Downloading youtube_dl-2020.3.24-py2.py3-none-any.whl (1.8 MB)\n",
      "Requirement already satisfied: jupyterlab in c:\\programdata\\anaconda3\\lib\\site-packages (from -r requirements.txt (line 7)) (1.2.6)\n",
      "Collecting opencv-python>=3.3.0.10\n",
      "  Downloading opencv_python-4.2.0.32-cp37-cp37m-win_amd64.whl (33.0 MB)\n",
      "Collecting pillow==6.2.2\n",
      "  Downloading Pillow-6.2.2-cp37-cp37m-win_amd64.whl (2.0 MB)\n",
      "Requirement already satisfied: numexpr in c:\\programdata\\anaconda3\\lib\\site-packages (from fastai==1.0.51->-r requirements.txt (line 1)) (2.7.1)\n",
      "Requirement already satisfied: beautifulsoup4 in c:\\programdata\\anaconda3\\lib\\site-packages (from fastai==1.0.51->-r requirements.txt (line 1)) (4.8.2)\n",
      "Requirement already satisfied: matplotlib in c:\\programdata\\anaconda3\\lib\\site-packages (from fastai==1.0.51->-r requirements.txt (line 1)) (3.1.3)\n",
      "Requirement already satisfied: pandas in c:\\programdata\\anaconda3\\lib\\site-packages (from fastai==1.0.51->-r requirements.txt (line 1)) (1.0.1)\n",
      "Requirement already satisfied: torch>=1.0.0 in c:\\programdata\\anaconda3\\lib\\site-packages (from fastai==1.0.51->-r requirements.txt (line 1)) (1.4.0)\n",
      "Collecting nvidia-ml-py3\n",
      "  Downloading nvidia-ml-py3-7.352.0.tar.gz (19 kB)\n",
      "Requirement already satisfied: bottleneck in c:\\programdata\\anaconda3\\lib\\site-packages (from fastai==1.0.51->-r requirements.txt (line 1)) (1.3.2)\n",
      "Requirement already satisfied: pyyaml in c:\\programdata\\anaconda3\\lib\\site-packages (from fastai==1.0.51->-r requirements.txt (line 1)) (5.3)\n",
      "Requirement already satisfied: packaging in c:\\programdata\\anaconda3\\lib\\site-packages (from fastai==1.0.51->-r requirements.txt (line 1)) (20.1)\n",
      "Collecting typing\n",
      "  Downloading typing-3.7.4.1-py3-none-any.whl (25 kB)\n",
      "Requirement already satisfied: fastprogress>=0.1.19 in c:\\programdata\\anaconda3\\lib\\site-packages (from fastai==1.0.51->-r requirements.txt (line 1)) (0.2.2)\n",
      "Requirement already satisfied: numpy>=1.15 in c:\\programdata\\anaconda3\\lib\\site-packages (from fastai==1.0.51->-r requirements.txt (line 1)) (1.18.1)\n",
      "Requirement already satisfied: requests in c:\\programdata\\anaconda3\\lib\\site-packages (from fastai==1.0.51->-r requirements.txt (line 1)) (2.22.0)\n",
      "Requirement already satisfied: torchvision in c:\\programdata\\anaconda3\\lib\\site-packages (from fastai==1.0.51->-r requirements.txt (line 1)) (0.5.0)\n",
      "Requirement already satisfied: spacy>=2.0.18 in c:\\programdata\\anaconda3\\lib\\site-packages (from fastai==1.0.51->-r requirements.txt (line 1)) (2.1.8)\n",
      "Requirement already satisfied: scipy in c:\\programdata\\anaconda3\\lib\\site-packages (from fastai==1.0.51->-r requirements.txt (line 1)) (1.4.1)\n",
      "Requirement already satisfied: python-dateutil>=2.6.1 in c:\\programdata\\anaconda3\\lib\\site-packages (from wandb->-r requirements.txt (line 2)) (2.8.1)\n",
      "Collecting GitPython>=1.0.0\n",
      "  Downloading GitPython-3.1.0-py3-none-any.whl (450 kB)\n",
      "Requirement already satisfied: Click>=7.0 in c:\\programdata\\anaconda3\\lib\\site-packages (from wandb->-r requirements.txt (line 2)) (7.0)\n",
      "Collecting docker-pycreds>=0.4.0\n",
      "  Downloading docker_pycreds-0.4.0-py2.py3-none-any.whl (9.0 kB)\n",
      "Collecting gql==0.2.0\n",
      "  Downloading gql-0.2.0.tar.gz (18 kB)\n",
      "Collecting shortuuid>=0.5.0\n",
      "  Downloading shortuuid-1.0.1-py3-none-any.whl (7.5 kB)\n",
      "Collecting configparser>=3.8.1\n",
      "  Downloading configparser-5.0.0-py3-none-any.whl (22 kB)\n",
      "Requirement already satisfied: six>=1.10.0 in c:\\programdata\\anaconda3\\lib\\site-packages (from wandb->-r requirements.txt (line 2)) (1.14.0)\n",
      "Requirement already satisfied: psutil>=5.0.0 in c:\\programdata\\anaconda3\\lib\\site-packages (from wandb->-r requirements.txt (line 2)) (5.6.7)\n",
      "Collecting sentry-sdk>=0.4.0\n",
      "  Downloading sentry_sdk-0.14.3-py2.py3-none-any.whl (103 kB)\n",
      "Requirement already satisfied: watchdog>=0.8.3 in c:\\programdata\\anaconda3\\lib\\site-packages (from wandb->-r requirements.txt (line 2)) (0.10.2)\n",
      "Collecting subprocess32>=3.5.3\n",
      "  Downloading subprocess32-3.5.4.tar.gz (97 kB)\n",
      "Collecting protobuf>=3.2.0\n",
      "  Downloading protobuf-3.11.3-cp37-cp37m-win_amd64.whl (1.0 MB)\n",
      "Requirement already satisfied: future in c:\\programdata\\anaconda3\\lib\\site-packages (from ffmpeg-python==0.1.17->-r requirements.txt (line 5)) (0.18.2)\n",
      "Requirement already satisfied: notebook>=4.3.1 in c:\\programdata\\anaconda3\\lib\\site-packages (from jupyterlab->-r requirements.txt (line 7)) (6.0.3)\n",
      "Requirement already satisfied: tornado!=6.0.0,!=6.0.1,!=6.0.2 in c:\\programdata\\anaconda3\\lib\\site-packages (from jupyterlab->-r requirements.txt (line 7)) (6.0.3)\n",
      "Requirement already satisfied: jupyterlab_server~=1.0.0 in c:\\programdata\\anaconda3\\lib\\site-packages (from jupyterlab->-r requirements.txt (line 7)) (1.0.6)\n",
      "Requirement already satisfied: jinja2>=2.10 in c:\\programdata\\anaconda3\\lib\\site-packages (from jupyterlab->-r requirements.txt (line 7)) (2.11.1)\n",
      "Requirement already satisfied: soupsieve>=1.2 in c:\\programdata\\anaconda3\\lib\\site-packages (from beautifulsoup4->fastai==1.0.51->-r requirements.txt (line 1)) (1.9.5)\n",
      "Requirement already satisfied: pyparsing!=2.0.4,!=2.1.2,!=2.1.6,>=2.0.1 in c:\\programdata\\anaconda3\\lib\\site-packages (from matplotlib->fastai==1.0.51->-r requirements.txt (line 1)) (2.4.6)\n",
      "Requirement already satisfied: cycler>=0.10 in c:\\programdata\\anaconda3\\lib\\site-packages (from matplotlib->fastai==1.0.51->-r requirements.txt (line 1)) (0.10.0)\n",
      "Requirement already satisfied: kiwisolver>=1.0.1 in c:\\programdata\\anaconda3\\lib\\site-packages (from matplotlib->fastai==1.0.51->-r requirements.txt (line 1)) (1.1.0)\n",
      "Requirement already satisfied: pytz>=2017.2 in c:\\programdata\\anaconda3\\lib\\site-packages (from pandas->fastai==1.0.51->-r requirements.txt (line 1)) (2019.3)\n",
      "Requirement already satisfied: idna<2.9,>=2.5 in c:\\programdata\\anaconda3\\lib\\site-packages (from requests->fastai==1.0.51->-r requirements.txt (line 1)) (2.8)\n",
      "Requirement already satisfied: certifi>=2017.4.17 in c:\\programdata\\anaconda3\\lib\\site-packages (from requests->fastai==1.0.51->-r requirements.txt (line 1)) (2019.11.28)\n",
      "Requirement already satisfied: chardet<3.1.0,>=3.0.2 in c:\\programdata\\anaconda3\\lib\\site-packages (from requests->fastai==1.0.51->-r requirements.txt (line 1)) (3.0.4)\n",
      "Requirement already satisfied: urllib3!=1.25.0,!=1.25.1,<1.26,>=1.21.1 in c:\\programdata\\anaconda3\\lib\\site-packages (from requests->fastai==1.0.51->-r requirements.txt (line 1)) (1.25.8)\n",
      "Requirement already satisfied: thinc<7.1.0,>=7.0.8 in c:\\programdata\\anaconda3\\lib\\site-packages (from spacy>=2.0.18->fastai==1.0.51->-r requirements.txt (line 1)) (7.0.8)\n",
      "Requirement already satisfied: wasabi<1.1.0,>=0.2.0 in c:\\programdata\\anaconda3\\lib\\site-packages (from spacy>=2.0.18->fastai==1.0.51->-r requirements.txt (line 1)) (0.2.2)\n",
      "Requirement already satisfied: preshed<2.1.0,>=2.0.1 in c:\\programdata\\anaconda3\\lib\\site-packages (from spacy>=2.0.18->fastai==1.0.51->-r requirements.txt (line 1)) (2.0.1)\n",
      "Requirement already satisfied: cymem<2.1.0,>=2.0.2 in c:\\programdata\\anaconda3\\lib\\site-packages (from spacy>=2.0.18->fastai==1.0.51->-r requirements.txt (line 1)) (2.0.2)\n",
      "Requirement already satisfied: blis<0.3.0,>=0.2.2 in c:\\programdata\\anaconda3\\lib\\site-packages (from spacy>=2.0.18->fastai==1.0.51->-r requirements.txt (line 1)) (0.2.4)\n",
      "Requirement already satisfied: srsly<1.1.0,>=0.0.6 in c:\\programdata\\anaconda3\\lib\\site-packages (from spacy>=2.0.18->fastai==1.0.51->-r requirements.txt (line 1)) (0.1.0)\n",
      "Requirement already satisfied: murmurhash<1.1.0,>=0.28.0 in c:\\programdata\\anaconda3\\lib\\site-packages (from spacy>=2.0.18->fastai==1.0.51->-r requirements.txt (line 1)) (1.0.2)\n",
      "Requirement already satisfied: plac<1.0.0,>=0.9.6 in c:\\programdata\\anaconda3\\lib\\site-packages (from spacy>=2.0.18->fastai==1.0.51->-r requirements.txt (line 1)) (0.9.6)\n",
      "Collecting gitdb<5,>=4.0.1\n",
      "  Downloading gitdb-4.0.2-py3-none-any.whl (63 kB)\n",
      "Collecting graphql-core<2,>=0.5.0\n",
      "  Downloading graphql-core-1.1.tar.gz (70 kB)\n",
      "Collecting promise<3,>=2.0\n",
      "  Downloading promise-2.3.tar.gz (19 kB)\n",
      "Requirement already satisfied: pathtools>=0.1.1 in c:\\programdata\\anaconda3\\lib\\site-packages (from watchdog>=0.8.3->wandb->-r requirements.txt (line 2)) (0.1.2)\n",
      "Requirement already satisfied: setuptools in c:\\programdata\\anaconda3\\lib\\site-packages (from protobuf>=3.2.0->tensorboardX==1.6->-r requirements.txt (line 3)) (45.2.0.post20200210)\n",
      "Requirement already satisfied: traitlets>=4.2.1 in c:\\programdata\\anaconda3\\lib\\site-packages (from notebook>=4.3.1->jupyterlab->-r requirements.txt (line 7)) (4.3.3)\n",
      "Requirement already satisfied: jupyter-core>=4.6.1 in c:\\programdata\\anaconda3\\lib\\site-packages (from notebook>=4.3.1->jupyterlab->-r requirements.txt (line 7)) (4.6.1)\n",
      "Requirement already satisfied: jupyter-client>=5.3.4 in c:\\programdata\\anaconda3\\lib\\site-packages (from notebook>=4.3.1->jupyterlab->-r requirements.txt (line 7)) (5.3.4)\n",
      "Requirement already satisfied: ipython-genutils in c:\\programdata\\anaconda3\\lib\\site-packages (from notebook>=4.3.1->jupyterlab->-r requirements.txt (line 7)) (0.2.0)\n",
      "Requirement already satisfied: Send2Trash in c:\\programdata\\anaconda3\\lib\\site-packages (from notebook>=4.3.1->jupyterlab->-r requirements.txt (line 7)) (1.5.0)\n",
      "Requirement already satisfied: pyzmq>=17 in c:\\programdata\\anaconda3\\lib\\site-packages (from notebook>=4.3.1->jupyterlab->-r requirements.txt (line 7)) (18.1.1)\n",
      "Requirement already satisfied: ipykernel in c:\\programdata\\anaconda3\\lib\\site-packages (from notebook>=4.3.1->jupyterlab->-r requirements.txt (line 7)) (5.1.4)\n",
      "Requirement already satisfied: prometheus-client in c:\\programdata\\anaconda3\\lib\\site-packages (from notebook>=4.3.1->jupyterlab->-r requirements.txt (line 7)) (0.7.1)\n",
      "Requirement already satisfied: nbformat in c:\\programdata\\anaconda3\\lib\\site-packages (from notebook>=4.3.1->jupyterlab->-r requirements.txt (line 7)) (5.0.4)\n",
      "Requirement already satisfied: terminado>=0.8.1 in c:\\programdata\\anaconda3\\lib\\site-packages (from notebook>=4.3.1->jupyterlab->-r requirements.txt (line 7)) (0.8.3)\n",
      "Requirement already satisfied: nbconvert in c:\\programdata\\anaconda3\\lib\\site-packages (from notebook>=4.3.1->jupyterlab->-r requirements.txt (line 7)) (5.6.1)\n",
      "Requirement already satisfied: json5 in c:\\programdata\\anaconda3\\lib\\site-packages (from jupyterlab_server~=1.0.0->jupyterlab->-r requirements.txt (line 7)) (0.9.1)\n",
      "Requirement already satisfied: jsonschema>=3.0.1 in c:\\programdata\\anaconda3\\lib\\site-packages (from jupyterlab_server~=1.0.0->jupyterlab->-r requirements.txt (line 7)) (3.2.0)\n",
      "Requirement already satisfied: MarkupSafe>=0.23 in c:\\programdata\\anaconda3\\lib\\site-packages (from jinja2>=2.10->jupyterlab->-r requirements.txt (line 7)) (1.1.1)\n",
      "Requirement already satisfied: tqdm<5.0.0,>=4.10.0 in c:\\programdata\\anaconda3\\lib\\site-packages (from thinc<7.1.0,>=7.0.8->spacy>=2.0.18->fastai==1.0.51->-r requirements.txt (line 1)) (4.42.1)\n",
      "Collecting smmap<4,>=3.0.1\n",
      "  Downloading smmap-3.0.1-py2.py3-none-any.whl (25 kB)\n",
      "Requirement already satisfied: decorator in c:\\programdata\\anaconda3\\lib\\site-packages (from traitlets>=4.2.1->notebook>=4.3.1->jupyterlab->-r requirements.txt (line 7)) (4.4.1)\n",
      "Requirement already satisfied: pywin32>=1.0; sys_platform == \"win32\" in c:\\programdata\\anaconda3\\lib\\site-packages (from jupyter-core>=4.6.1->notebook>=4.3.1->jupyterlab->-r requirements.txt (line 7)) (227)\n",
      "Requirement already satisfied: ipython>=5.0.0 in c:\\programdata\\anaconda3\\lib\\site-packages (from ipykernel->notebook>=4.3.1->jupyterlab->-r requirements.txt (line 7)) (7.12.0)\n",
      "Requirement already satisfied: pygments in c:\\programdata\\anaconda3\\lib\\site-packages (from nbconvert->notebook>=4.3.1->jupyterlab->-r requirements.txt (line 7)) (2.5.2)\n",
      "Requirement already satisfied: pandocfilters>=1.4.1 in c:\\programdata\\anaconda3\\lib\\site-packages (from nbconvert->notebook>=4.3.1->jupyterlab->-r requirements.txt (line 7)) (1.4.2)\n",
      "Requirement already satisfied: bleach in c:\\programdata\\anaconda3\\lib\\site-packages (from nbconvert->notebook>=4.3.1->jupyterlab->-r requirements.txt (line 7)) (3.1.0)\n",
      "Requirement already satisfied: testpath in c:\\programdata\\anaconda3\\lib\\site-packages (from nbconvert->notebook>=4.3.1->jupyterlab->-r requirements.txt (line 7)) (0.4.4)\n",
      "Requirement already satisfied: mistune<2,>=0.8.1 in c:\\programdata\\anaconda3\\lib\\site-packages (from nbconvert->notebook>=4.3.1->jupyterlab->-r requirements.txt (line 7)) (0.8.4)\n",
      "Requirement already satisfied: entrypoints>=0.2.2 in c:\\programdata\\anaconda3\\lib\\site-packages (from nbconvert->notebook>=4.3.1->jupyterlab->-r requirements.txt (line 7)) (0.3)\n",
      "Requirement already satisfied: defusedxml in c:\\programdata\\anaconda3\\lib\\site-packages (from nbconvert->notebook>=4.3.1->jupyterlab->-r requirements.txt (line 7)) (0.6.0)\n",
      "Requirement already satisfied: pyrsistent>=0.14.0 in c:\\programdata\\anaconda3\\lib\\site-packages (from jsonschema>=3.0.1->jupyterlab_server~=1.0.0->jupyterlab->-r requirements.txt (line 7)) (0.15.7)\n",
      "Requirement already satisfied: importlib-metadata; python_version < \"3.8\" in c:\\programdata\\anaconda3\\lib\\site-packages (from jsonschema>=3.0.1->jupyterlab_server~=1.0.0->jupyterlab->-r requirements.txt (line 7)) (1.5.0)\n",
      "Requirement already satisfied: attrs>=17.4.0 in c:\\programdata\\anaconda3\\lib\\site-packages (from jsonschema>=3.0.1->jupyterlab_server~=1.0.0->jupyterlab->-r requirements.txt (line 7)) (19.3.0)\n",
      "Requirement already satisfied: pickleshare in c:\\programdata\\anaconda3\\lib\\site-packages (from ipython>=5.0.0->ipykernel->notebook>=4.3.1->jupyterlab->-r requirements.txt (line 7)) (0.7.5)\n",
      "Requirement already satisfied: jedi>=0.10 in c:\\programdata\\anaconda3\\lib\\site-packages (from ipython>=5.0.0->ipykernel->notebook>=4.3.1->jupyterlab->-r requirements.txt (line 7)) (0.14.1)\n",
      "Requirement already satisfied: prompt-toolkit!=3.0.0,!=3.0.1,<3.1.0,>=2.0.0 in c:\\programdata\\anaconda3\\lib\\site-packages (from ipython>=5.0.0->ipykernel->notebook>=4.3.1->jupyterlab->-r requirements.txt (line 7)) (3.0.3)\n",
      "Requirement already satisfied: colorama; sys_platform == \"win32\" in c:\\programdata\\anaconda3\\lib\\site-packages (from ipython>=5.0.0->ipykernel->notebook>=4.3.1->jupyterlab->-r requirements.txt (line 7)) (0.4.3)\n",
      "Requirement already satisfied: backcall in c:\\programdata\\anaconda3\\lib\\site-packages (from ipython>=5.0.0->ipykernel->notebook>=4.3.1->jupyterlab->-r requirements.txt (line 7)) (0.1.0)\n",
      "Requirement already satisfied: webencodings in c:\\programdata\\anaconda3\\lib\\site-packages (from bleach->nbconvert->notebook>=4.3.1->jupyterlab->-r requirements.txt (line 7)) (0.5.1)\n",
      "Requirement already satisfied: zipp>=0.5 in c:\\programdata\\anaconda3\\lib\\site-packages (from importlib-metadata; python_version < \"3.8\"->jsonschema>=3.0.1->jupyterlab_server~=1.0.0->jupyterlab->-r requirements.txt (line 7)) (2.2.0)\n",
      "Requirement already satisfied: parso>=0.5.0 in c:\\programdata\\anaconda3\\lib\\site-packages (from jedi>=0.10->ipython>=5.0.0->ipykernel->notebook>=4.3.1->jupyterlab->-r requirements.txt (line 7)) (0.5.2)\n",
      "Requirement already satisfied: wcwidth in c:\\programdata\\anaconda3\\lib\\site-packages (from prompt-toolkit!=3.0.0,!=3.0.1,<3.1.0,>=2.0.0->ipython>=5.0.0->ipykernel->notebook>=4.3.1->jupyterlab->-r requirements.txt (line 7)) (0.1.8)\n",
      "Building wheels for collected packages: ffmpeg, nvidia-ml-py3, gql, subprocess32, graphql-core, promise\n",
      "  Building wheel for ffmpeg (setup.py): started\n",
      "  Building wheel for ffmpeg (setup.py): finished with status 'done'\n",
      "  Created wheel for ffmpeg: filename=ffmpeg-1.4-py3-none-any.whl size=6086 sha256=ea08b2f99db4271314a0ea18c5a51f8859f2bc0326360fbb89de8caefca067a9\n",
      "  Stored in directory: c:\\users\\hapsi\\appdata\\local\\pip\\cache\\wheels\\64\\80\\6e\\caa3e16deb0267c3cbfd36862058a724144e19fdb9eb03af0f\n",
      "  Building wheel for nvidia-ml-py3 (setup.py): started\n",
      "  Building wheel for nvidia-ml-py3 (setup.py): finished with status 'done'\n",
      "  Created wheel for nvidia-ml-py3: filename=nvidia_ml_py3-7.352.0-py3-none-any.whl size=19196 sha256=00418d5da52445f1f7cd5038ec3bfa6894c7397d4396fe3a2b86b8a4bfc81c9c\n",
      "  Stored in directory: c:\\users\\hapsi\\appdata\\local\\pip\\cache\\wheels\\df\\99\\da\\c34f202dc8fd1dffd35e0ecf1a7d7f8374ca05fbcbaf974b83\n",
      "  Building wheel for gql (setup.py): started\n",
      "  Building wheel for gql (setup.py): finished with status 'done'\n",
      "  Created wheel for gql: filename=gql-0.2.0-py3-none-any.whl size=7633 sha256=dcf965252688cda089203b00d4047a9fb970115b222f83fed9cfd555f03ab758\n",
      "  Stored in directory: c:\\users\\hapsi\\appdata\\local\\pip\\cache\\wheels\\b6\\9a\\56\\5456fd32264a8fc53eefcb2f74e24e99a7ef4eb40a9af5c905\n",
      "  Building wheel for subprocess32 (setup.py): started\n",
      "  Building wheel for subprocess32 (setup.py): finished with status 'done'\n",
      "  Created wheel for subprocess32: filename=subprocess32-3.5.4-py3-none-any.whl size=6492 sha256=9dd1efd1ca6c8ebf2b3bf9688747e9f964c03da17bf8541fb0693d82a2fb9f9b\n",
      "  Stored in directory: c:\\users\\hapsi\\appdata\\local\\pip\\cache\\wheels\\50\\ca\\fa\\8fca8d246e64f19488d07567547ddec8eb084e8c0d7a59226a\n",
      "  Building wheel for graphql-core (setup.py): started\n",
      "  Building wheel for graphql-core (setup.py): finished with status 'done'\n",
      "  Created wheel for graphql-core: filename=graphql_core-1.1-py3-none-any.whl size=104654 sha256=da638fd9594b2dd6ca4be437c4d6d9f5152178aa8c2fb88eda13e6a1bf8f7b64\n",
      "  Stored in directory: c:\\users\\hapsi\\appdata\\local\\pip\\cache\\wheels\\6b\\fd\\8c\\a20dd591c1a554070cc33fb58042867e6ac1c85395abe2e57a\n",
      "  Building wheel for promise (setup.py): started\n",
      "  Building wheel for promise (setup.py): finished with status 'done'\n",
      "  Created wheel for promise: filename=promise-2.3-py3-none-any.whl size=21499 sha256=1d89d9448c23ec9731cb79b23b24de6b5d039bc15e976855b0b81f730595efb3\n",
      "  Stored in directory: c:\\users\\hapsi\\appdata\\local\\pip\\cache\\wheels\\29\\93\\c6\\762e359f8cb6a5b69c72235d798804cae523bbe41c2aa8333d\n",
      "Successfully built ffmpeg nvidia-ml-py3 gql subprocess32 graphql-core promise\n",
      "Installing collected packages: nvidia-ml-py3, typing, pillow, fastai, smmap, gitdb, GitPython, docker-pycreds, promise, graphql-core, gql, shortuuid, configparser, sentry-sdk, subprocess32, wandb, protobuf, tensorboardX, ffmpeg, ffmpeg-python, youtube-dl, opencv-python\n"
     ]
    },
    {
     "name": "stderr",
     "output_type": "stream",
     "text": [
      "ERROR: Could not install packages due to an EnvironmentError: [WinError 5] Отказано в доступе: 'C:\\\\ProgramData\\\\Anaconda3\\\\Lib\\\\site-packages\\\\__pycache__\\\\nvidia_smi.cpython-37.pyc'\n",
      "Consider using the `--user` option or check the permissions.\n",
      "\n"
     ]
    }
   ],
   "source": [
    "!pip install -r requirements.txt"
   ]
  },
  {
   "cell_type": "code",
   "execution_count": 1,
   "metadata": {
    "colab": {
     "base_uri": "https://localhost:8080/",
     "height": 479
    },
    "colab_type": "code",
    "id": "r8CoewIgDbqv",
    "outputId": "dcfa9587-ca59-481c-c2d9-5322f2b3b7ef"
   },
   "outputs": [],
   "source": [
    "import fastai\n",
    "from deoldify.visualize import *\n",
    "\n",
    "torch.backends.cudnn.benchmark = True"
   ]
  },
  {
   "cell_type": "code",
   "execution_count": 2,
   "metadata": {
    "colab": {
     "base_uri": "https://localhost:8080/",
     "height": 156
    },
    "colab_type": "code",
    "id": "qToXpRc2Dhf_",
    "outputId": "722f2b34-a026-42b0-ca60-8103abbd895d"
   },
   "outputs": [
    {
     "name": "stderr",
     "output_type": "stream",
     "text": [
      "C:\\Users\\hapsi\\.conda\\envs\\deoldify\\lib\\site-packages\\fastai\\data_block.py:442: UserWarning: Your training set is empty. If this is by design, pass `ignore_empty=True` to remove this warning.\n",
      "  warn(\"Your training set is empty. If this is by design, pass `ignore_empty=True` to remove this warning.\")\n",
      "C:\\Users\\hapsi\\.conda\\envs\\deoldify\\lib\\site-packages\\fastai\\data_block.py:445: UserWarning: Your validation set is empty. If this is by design, use `split_none()`\n",
      "                 or pass `ignore_empty=True` when labelling to remove this warning.\n",
      "  or pass `ignore_empty=True` when labelling to remove this warning.\"\"\")\n"
     ]
    }
   ],
   "source": [
    "from deoldify.generators import gen_inference_deep, gen_inference_wide\n",
    "\n",
    "root_folder:Path=Path('./')\n",
    "weights_name:str='ColorizeArtistic_gen'\n",
    "\n",
    "learn = gen_inference_deep(root_folder=root_folder, weights_name=weights_name)"
   ]
  },
  {
   "cell_type": "code",
   "execution_count": 3,
   "metadata": {},
   "outputs": [],
   "source": [
    "model = learn.model\n",
    "model.cpu()\n",
    "input_names = [\"my_input\"]\n",
    "output_names = [\"my_output\"]"
   ]
  },
  {
   "cell_type": "code",
   "execution_count": 4,
   "metadata": {},
   "outputs": [],
   "source": [
    "def remove_all_spectral_norm(item):\n",
    "    if isinstance(item, nn.Module):\n",
    "        try:\n",
    "            nn.utils.remove_spectral_norm(item)\n",
    "        except Exception:\n",
    "            pass\n",
    "        \n",
    "        for child in item.children():  \n",
    "            remove_all_spectral_norm(child)\n",
    "\n",
    "    if isinstance(item, nn.ModuleList):\n",
    "        for module in item:\n",
    "            remove_all_spectral_norm(module)\n",
    "\n",
    "    if isinstance(item, nn.Sequential):\n",
    "        modules = item.children()\n",
    "        for module in modules:\n",
    "            remove_all_spectral_norm(module)\n",
    "remove_all_spectral_norm(model)"
   ]
  },
  {
   "cell_type": "code",
   "execution_count": 7,
   "metadata": {
    "colab": {
     "base_uri": "https://localhost:8080/",
     "height": 395
    },
    "colab_type": "code",
    "id": "PevWQ6V1DlEy",
    "outputId": "103aba43-d554-4d0c-c465-5dd412fa0852"
   },
   "outputs": [
    {
     "ename": "TypeError",
     "evalue": "export() got an unexpected keyword argument 'ceil_mode'",
     "output_type": "error",
     "traceback": [
      "\u001b[1;31m---------------------------------------------------------------------------\u001b[0m",
      "\u001b[1;31mTypeError\u001b[0m                                 Traceback (most recent call last)",
      "\u001b[1;32m<ipython-input-7-5c6d756de7f0>\u001b[0m in \u001b[0;36m<module>\u001b[1;34m\u001b[0m\n\u001b[0;32m      2\u001b[0m \u001b[1;33m\u001b[0m\u001b[0m\n\u001b[0;32m      3\u001b[0m torch.onnx.export(model, dummy_input, \"models/colorizer.onnx\",\n\u001b[1;32m----> 4\u001b[1;33m                   verbose=True, ceil_mode=False)\n\u001b[0m",
      "\u001b[1;32m~\\.conda\\envs\\deoldify\\lib\\site-packages\\torch\\onnx\\__init__.py\u001b[0m in \u001b[0;36mexport\u001b[1;34m(*args, **kwargs)\u001b[0m\n\u001b[0;32m     25\u001b[0m \u001b[1;32mdef\u001b[0m \u001b[0mexport\u001b[0m\u001b[1;33m(\u001b[0m\u001b[1;33m*\u001b[0m\u001b[0margs\u001b[0m\u001b[1;33m,\u001b[0m \u001b[1;33m**\u001b[0m\u001b[0mkwargs\u001b[0m\u001b[1;33m)\u001b[0m\u001b[1;33m:\u001b[0m\u001b[1;33m\u001b[0m\u001b[1;33m\u001b[0m\u001b[0m\n\u001b[0;32m     26\u001b[0m     \u001b[1;32mfrom\u001b[0m \u001b[0mtorch\u001b[0m\u001b[1;33m.\u001b[0m\u001b[0monnx\u001b[0m \u001b[1;32mimport\u001b[0m \u001b[0mutils\u001b[0m\u001b[1;33m\u001b[0m\u001b[1;33m\u001b[0m\u001b[0m\n\u001b[1;32m---> 27\u001b[1;33m     \u001b[1;32mreturn\u001b[0m \u001b[0mutils\u001b[0m\u001b[1;33m.\u001b[0m\u001b[0mexport\u001b[0m\u001b[1;33m(\u001b[0m\u001b[1;33m*\u001b[0m\u001b[0margs\u001b[0m\u001b[1;33m,\u001b[0m \u001b[1;33m**\u001b[0m\u001b[0mkwargs\u001b[0m\u001b[1;33m)\u001b[0m\u001b[1;33m\u001b[0m\u001b[1;33m\u001b[0m\u001b[0m\n\u001b[0m\u001b[0;32m     28\u001b[0m \u001b[1;33m\u001b[0m\u001b[0m\n\u001b[0;32m     29\u001b[0m \u001b[1;33m\u001b[0m\u001b[0m\n",
      "\u001b[1;31mTypeError\u001b[0m: export() got an unexpected keyword argument 'ceil_mode'"
     ]
    }
   ],
   "source": [
    "\n",
    "dummy_input = torch.randn(1, 3, 224, 224)\n",
    "\n",
    "torch.onnx.export(model, dummy_input, \"models/colorizer.onnx\",\n",
    "                  verbose=True, ceil_mode=False)"
   ]
  },
  {
   "cell_type": "code",
   "execution_count": null,
   "metadata": {},
   "outputs": [],
   "source": []
  }
 ],
 "metadata": {
  "accelerator": "GPU",
  "colab": {
   "name": "DeOldifyOnnx.ipynb",
   "provenance": []
  },
  "kernelspec": {
   "display_name": "Python 3",
   "language": "python",
   "name": "python3"
  },
  "language_info": {
   "codemirror_mode": {
    "name": "ipython",
    "version": 3
   },
   "file_extension": ".py",
   "mimetype": "text/x-python",
   "name": "python",
   "nbconvert_exporter": "python",
   "pygments_lexer": "ipython3",
   "version": "3.7.6"
  }
 },
 "nbformat": 4,
 "nbformat_minor": 4
}
